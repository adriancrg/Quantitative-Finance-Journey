{
 "cells": [
  {
   "cell_type": "code",
   "execution_count": 3,
   "id": "54fc3d03-bba1-44af-ac04-8379458911fa",
   "metadata": {},
   "outputs": [],
   "source": [
    "# Usamos una LISTA para contener todos nuestros activos.\n",
    "# Cada activo es un DICCIONARIO que describe sus propiedades.\n",
    "\n",
    "portfolio = [\n",
    "    {\n",
    "        'ticker': 'AAPL',\n",
    "        'nombre': 'Apple Inc',\n",
    "        'sector': 'Technology',\n",
    "        'acciones': 50,\n",
    "        'precio_compra': 150.25\n",
    "    },\n",
    "    {\n",
    "        'ticker': 'NVDA',\n",
    "        'nombre': 'NVIDIA Corporation',\n",
    "        'sector': 'Technology',\n",
    "        'acciones': 25,\n",
    "        'precio_compra': 450.70\n",
    "    },\n",
    "    {\n",
    "        'ticker': 'JPM',\n",
    "        'nombre': 'JPMorgan Chase & Co.',\n",
    "        'sector': 'Financial Services',\n",
    "        'acciones': 100,\n",
    "        'precio_compra': 140.10\n",
    "    }\n",
    "]"
   ]
  },
  {
   "cell_type": "code",
   "execution_count": 13,
   "id": "17080ca9-8390-473c-98f7-f78c9fcbda2b",
   "metadata": {},
   "outputs": [
    {
     "name": "stdout",
     "output_type": "stream",
     "text": [
      "El valor total de la cartera es 32790.0.\n"
     ]
    }
   ],
   "source": [
    "# Vamos a calcular el valor total de la cartera\n",
    "\n",
    "valores_activos=[]\n",
    "\n",
    "for activo in portfolio:\n",
    "    valores_activos.append(activo['acciones']*activo['precio_compra'])\n",
    "\n",
    "valor_total=sum(valores_activos)\n",
    "print(f\"El valor total de la cartera es {valor_total}.\")\n",
    "\n",
    "# Correción/Mejora:\n",
    "# valor_total = sum(activo['acciones'] * activo['precio_compra'] for activo in portfolio)"
   ]
  },
  {
   "cell_type": "code",
   "execution_count": 12,
   "id": "caea78c2-1132-412f-9a61-355cdacdf2ae",
   "metadata": {},
   "outputs": [
    {
     "name": "stdout",
     "output_type": "stream",
     "text": [
      "El nombre del activo del que tenemos más acciones es JPMorgan Chase & Co..\n"
     ]
    }
   ],
   "source": [
    "# Vamos a ver de qué activo tenemos más acciones\n",
    "\n",
    "valor_max=max(activo['acciones'] for activo in portfolio)\n",
    "\n",
    "nombre_activo=[activo['nombre'] for activo in portfolio if activo['acciones']== valor_max]\n",
    "\n",
    "print(f\"El nombre del activo del que tenemos más acciones es {nombre_activo[0]}.\")\n",
    "\n",
    "#Corrección/Mejora:\n",
    "# si dos activos tuvieran el mismo número máximo de acciones, tu lista nombre_activo contendría dos nombres, pero al imprimir nombre_activo[0] solo mostrarías el primero\n",
    "# activo_con_mas_acciones = max(portfolio, key=lambda activo: activo['acciones'])\n",
    "# lambda define una función anónima"
   ]
  },
  {
   "cell_type": "code",
   "execution_count": null,
   "id": "274a5cc1-973f-49b6-8f26-ec7c0b1601d8",
   "metadata": {},
   "outputs": [],
   "source": []
  }
 ],
 "metadata": {
  "kernelspec": {
   "display_name": "Python 3 (ipykernel)",
   "language": "python",
   "name": "python3"
  },
  "language_info": {
   "codemirror_mode": {
    "name": "ipython",
    "version": 3
   },
   "file_extension": ".py",
   "mimetype": "text/x-python",
   "name": "python",
   "nbconvert_exporter": "python",
   "pygments_lexer": "ipython3",
   "version": "3.10.18"
  }
 },
 "nbformat": 4,
 "nbformat_minor": 5
}
