{
 "cells": [
  {
   "cell_type": "code",
   "execution_count": 14,
   "id": "846df912-3143-4da0-900a-c121bfa66760",
   "metadata": {},
   "outputs": [],
   "source": [
    "# Definimos las siguientes listas\n",
    "\n",
    "tickers = ['MSFT', 'GOOGL', 'AMZN', 'TSLA', 'META']\n",
    "precios_cierre = [429.5, 177.8, 185.0, 175.7, 502.1]"
   ]
  },
  {
   "cell_type": "code",
   "execution_count": 15,
   "id": "d6dd8dcd-8202-497a-b2b6-7969d77f82c2",
   "metadata": {},
   "outputs": [
    {
     "name": "stdout",
     "output_type": "stream",
     "text": [
      "[429.5, 502.1]\n"
     ]
    }
   ],
   "source": [
    "acciones_caras=[p for p in precios_cierre if p>200]\n",
    "print(acciones_caras)"
   ]
  },
  {
   "cell_type": "code",
   "execution_count": 16,
   "id": "0690e19a-f948-4bd2-ba66-93f22a078bdb",
   "metadata": {},
   "outputs": [
    {
     "name": "stdout",
     "output_type": "stream",
     "text": [
      "{'MSFT': 429.5, 'GOOGL': 177.8, 'AMZN': 185.0, 'TSLA': 175.7, 'META': 502.1}\n"
     ]
    }
   ],
   "source": [
    "precios_dict={tickers[i]:precios_cierre[i] for i in range(len(tickers))}\n",
    "print(precios_dict)\n",
    "\n",
    "#Mejora con zip():\n",
    "\n",
    "# Para cada par (ticker, precio) que zip nos da,\n",
    "# crea una entrada en el diccionario donde ticker es la clave y precio es el valor.\n",
    "#precios_dict_zip = {ticker: precio for ticker, precio in zip(tickers, precios_cierre)}\n",
    "#print(precios_dict_zip)"
   ]
  }
 ],
 "metadata": {
  "kernelspec": {
   "display_name": "Python 3 (ipykernel)",
   "language": "python",
   "name": "python3"
  },
  "language_info": {
   "codemirror_mode": {
    "name": "ipython",
    "version": 3
   },
   "file_extension": ".py",
   "mimetype": "text/x-python",
   "name": "python",
   "nbconvert_exporter": "python",
   "pygments_lexer": "ipython3",
   "version": "3.10.18"
  }
 },
 "nbformat": 4,
 "nbformat_minor": 5
}
