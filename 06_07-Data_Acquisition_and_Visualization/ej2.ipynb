{
 "cells": [
  {
   "cell_type": "code",
   "execution_count": 20,
   "id": "259bd124-ff48-4c1a-96eb-9a7de3636497",
   "metadata": {},
   "outputs": [
    {
     "name": "stderr",
     "output_type": "stream",
     "text": [
      "C:\\Users\\adria\\AppData\\Local\\Temp\\ipykernel_15788\\1426027677.py:7: FutureWarning: YF.download() has changed argument auto_adjust default to True\n",
      "  temp_df = yf.download(\"^GSPC\", period='5y')\n",
      "[*********************100%***********************]  1 of 1 completed\n"
     ]
    }
   ],
   "source": [
    "import pandas as pd\n",
    "import yfinance as yf\n",
    "import matplotlib.pyplot as plt\n",
    "import seaborn as sns\n",
    "\n",
    "# Descargamos los datos. El resultado es un DataFrame con fechas en el índice y tickers en las columnas.\n",
    "temp_df = yf.download(\"^GSPC\", period='5y')\n",
    "\n",
    "# --- PASO DE LIMPIEZA ---\n",
    "# Nos quedamos solo con las columnas del nivel superior\n",
    "temp_df.columns = temp_df.columns.get_level_values(0)"
   ]
  },
  {
   "cell_type": "code",
   "execution_count": 21,
   "id": "858b937a-d05f-418f-ac9b-9e3772852470",
   "metadata": {},
   "outputs": [
    {
     "data": {
      "text/html": [
       "<div>\n",
       "<style scoped>\n",
       "    .dataframe tbody tr th:only-of-type {\n",
       "        vertical-align: middle;\n",
       "    }\n",
       "\n",
       "    .dataframe tbody tr th {\n",
       "        vertical-align: top;\n",
       "    }\n",
       "\n",
       "    .dataframe thead th {\n",
       "        text-align: right;\n",
       "    }\n",
       "</style>\n",
       "<table border=\"1\" class=\"dataframe\">\n",
       "  <thead>\n",
       "    <tr style=\"text-align: right;\">\n",
       "      <th>Price</th>\n",
       "      <th>Close</th>\n",
       "      <th>High</th>\n",
       "      <th>Low</th>\n",
       "      <th>Open</th>\n",
       "      <th>Volume</th>\n",
       "      <th>returns</th>\n",
       "    </tr>\n",
       "    <tr>\n",
       "      <th>Date</th>\n",
       "      <th></th>\n",
       "      <th></th>\n",
       "      <th></th>\n",
       "      <th></th>\n",
       "      <th></th>\n",
       "      <th></th>\n",
       "    </tr>\n",
       "  </thead>\n",
       "  <tbody>\n",
       "    <tr>\n",
       "      <th>2020-10-26</th>\n",
       "      <td>3400.969971</td>\n",
       "      <td>3441.419922</td>\n",
       "      <td>3364.860107</td>\n",
       "      <td>3441.419922</td>\n",
       "      <td>4002210000</td>\n",
       "      <td>NaN</td>\n",
       "    </tr>\n",
       "    <tr>\n",
       "      <th>2020-10-27</th>\n",
       "      <td>3390.679932</td>\n",
       "      <td>3409.510010</td>\n",
       "      <td>3388.709961</td>\n",
       "      <td>3403.149902</td>\n",
       "      <td>3962400000</td>\n",
       "      <td>-0.003026</td>\n",
       "    </tr>\n",
       "    <tr>\n",
       "      <th>2020-10-28</th>\n",
       "      <td>3271.030029</td>\n",
       "      <td>3342.479980</td>\n",
       "      <td>3268.889893</td>\n",
       "      <td>3342.479980</td>\n",
       "      <td>5139970000</td>\n",
       "      <td>-0.035288</td>\n",
       "    </tr>\n",
       "    <tr>\n",
       "      <th>2020-10-29</th>\n",
       "      <td>3310.110107</td>\n",
       "      <td>3341.050049</td>\n",
       "      <td>3259.820068</td>\n",
       "      <td>3277.169922</td>\n",
       "      <td>4911860000</td>\n",
       "      <td>0.011947</td>\n",
       "    </tr>\n",
       "    <tr>\n",
       "      <th>2020-10-30</th>\n",
       "      <td>3269.959961</td>\n",
       "      <td>3304.929932</td>\n",
       "      <td>3233.939941</td>\n",
       "      <td>3293.590088</td>\n",
       "      <td>4843930000</td>\n",
       "      <td>-0.012130</td>\n",
       "    </tr>\n",
       "    <tr>\n",
       "      <th>...</th>\n",
       "      <td>...</td>\n",
       "      <td>...</td>\n",
       "      <td>...</td>\n",
       "      <td>...</td>\n",
       "      <td>...</td>\n",
       "      <td>...</td>\n",
       "    </tr>\n",
       "    <tr>\n",
       "      <th>2025-10-20</th>\n",
       "      <td>6735.129883</td>\n",
       "      <td>6744.350098</td>\n",
       "      <td>6690.049805</td>\n",
       "      <td>6690.049805</td>\n",
       "      <td>4672170000</td>\n",
       "      <td>0.010672</td>\n",
       "    </tr>\n",
       "    <tr>\n",
       "      <th>2025-10-21</th>\n",
       "      <td>6735.350098</td>\n",
       "      <td>6752.160156</td>\n",
       "      <td>6722.029785</td>\n",
       "      <td>6736.750000</td>\n",
       "      <td>5245020000</td>\n",
       "      <td>0.000033</td>\n",
       "    </tr>\n",
       "    <tr>\n",
       "      <th>2025-10-22</th>\n",
       "      <td>6699.399902</td>\n",
       "      <td>6741.750000</td>\n",
       "      <td>6655.689941</td>\n",
       "      <td>6741.339844</td>\n",
       "      <td>5710010000</td>\n",
       "      <td>-0.005338</td>\n",
       "    </tr>\n",
       "    <tr>\n",
       "      <th>2025-10-23</th>\n",
       "      <td>6738.439941</td>\n",
       "      <td>6749.529785</td>\n",
       "      <td>6700.140137</td>\n",
       "      <td>6703.649902</td>\n",
       "      <td>5565750000</td>\n",
       "      <td>0.005827</td>\n",
       "    </tr>\n",
       "    <tr>\n",
       "      <th>2025-10-24</th>\n",
       "      <td>6791.689941</td>\n",
       "      <td>6807.109863</td>\n",
       "      <td>6772.069824</td>\n",
       "      <td>6772.069824</td>\n",
       "      <td>5058220000</td>\n",
       "      <td>0.007902</td>\n",
       "    </tr>\n",
       "  </tbody>\n",
       "</table>\n",
       "<p>1256 rows × 6 columns</p>\n",
       "</div>"
      ],
      "text/plain": [
       "Price             Close         High          Low         Open      Volume  \\\n",
       "Date                                                                         \n",
       "2020-10-26  3400.969971  3441.419922  3364.860107  3441.419922  4002210000   \n",
       "2020-10-27  3390.679932  3409.510010  3388.709961  3403.149902  3962400000   \n",
       "2020-10-28  3271.030029  3342.479980  3268.889893  3342.479980  5139970000   \n",
       "2020-10-29  3310.110107  3341.050049  3259.820068  3277.169922  4911860000   \n",
       "2020-10-30  3269.959961  3304.929932  3233.939941  3293.590088  4843930000   \n",
       "...                 ...          ...          ...          ...         ...   \n",
       "2025-10-20  6735.129883  6744.350098  6690.049805  6690.049805  4672170000   \n",
       "2025-10-21  6735.350098  6752.160156  6722.029785  6736.750000  5245020000   \n",
       "2025-10-22  6699.399902  6741.750000  6655.689941  6741.339844  5710010000   \n",
       "2025-10-23  6738.439941  6749.529785  6700.140137  6703.649902  5565750000   \n",
       "2025-10-24  6791.689941  6807.109863  6772.069824  6772.069824  5058220000   \n",
       "\n",
       "Price        returns  \n",
       "Date                  \n",
       "2020-10-26       NaN  \n",
       "2020-10-27 -0.003026  \n",
       "2020-10-28 -0.035288  \n",
       "2020-10-29  0.011947  \n",
       "2020-10-30 -0.012130  \n",
       "...              ...  \n",
       "2025-10-20  0.010672  \n",
       "2025-10-21  0.000033  \n",
       "2025-10-22 -0.005338  \n",
       "2025-10-23  0.005827  \n",
       "2025-10-24  0.007902  \n",
       "\n",
       "[1256 rows x 6 columns]"
      ]
     },
     "execution_count": 21,
     "metadata": {},
     "output_type": "execute_result"
    }
   ],
   "source": [
    "#Calcular rendimientos diarios (el cambio porcentual del precio de cierre de un día para otro)\n",
    "\n",
    "# Creamos una nueva columna en nuestro DataFrame para almacenar el resultado.\n",
    "temp_df['returns'] = temp_df['Close'].pct_change()\n",
    "temp_df"
   ]
  },
  {
   "cell_type": "code",
   "execution_count": 23,
   "id": "4fbc6c71-0f95-44fe-a799-c22db1280acf",
   "metadata": {},
   "outputs": [
    {
     "data": {
      "image/png": "[encoded data removed]",
      "text/plain": [
       "<Figure size 1000x600 with 1 Axes>"
      ]
     },
     "metadata": {},
     "output_type": "display_data"
    }
   ],
   "source": [
    "sns.set_theme(style=\"whitegrid\")\n",
    "\n",
    "plt.figure(figsize=(10, 6))\n",
    "\n",
    "barplot = sns.histplot(x='returns', data=temp_df)\n",
    "\n",
    "# Usamos Matplotlib para añadir los toques finales y profesionales\n",
    "plt.title('Retornos Diarios del SPX500', fontsize=16)\n",
    "plt.xlabel('Valores', fontsize=12)\n",
    "plt.ylabel('Frecuencia', fontsize=12)\n",
    "\n",
    "plt.tight_layout() # Ajusta el gráfico para que todo encaje bien\n",
    "plt.show() # Muestra el gráfico final"
   ]
  },
  {
   "cell_type": "code",
   "execution_count": 26,
   "id": "ddc35188-037d-409c-84ca-55f4e7c72a64",
   "metadata": {},
   "outputs": [
    {
     "data": {
      "image/png": "[encoded data removed]",
      "text/plain": [
       "<Figure size 1000x600 with 1 Axes>"
      ]
     },
     "metadata": {},
     "output_type": "display_data"
    }
   ],
   "source": [
    "sns.set_theme(style=\"whitegrid\")\n",
    "\n",
    "plt.figure(figsize=(10, 6))\n",
    "\n",
    "barplot = sns.boxplot(x='returns', data=temp_df)\n",
    "\n",
    "# Usamos Matplotlib para añadir los toques finales y profesionales\n",
    "plt.title('Retornos Diarios del SPX500', fontsize=16)\n",
    "plt.xlabel('Valores', fontsize=12)\n",
    "\n",
    "plt.tight_layout() # Ajusta el gráfico para que todo encaje bien\n",
    "plt.show() # Muestra el gráfico final"
   ]
  },
  {
   "cell_type": "code",
   "execution_count": 28,
   "id": "4da9ac17-9b96-4874-93c2-eed56490f6b5",
   "metadata": {},
   "outputs": [
    {
     "name": "stdout",
     "output_type": "stream",
     "text": [
      "Q1 (25%): -0.004600578648782161\n",
      "Mediana (Q2): 0.0008194255259321714\n",
      "Q3 (75%): 0.006381714014856876\n",
      "IQR: 0.010982292663639037\n",
      "Bigote inferior: -0.021074017644240717\n",
      "Bigote superior: 0.022855153010315432\n",
      "Outliers: [np.float64(-0.035287878760604796), np.float64(-0.025677883699462), np.float64(-0.02447880752512621), np.float64(0.023790763506800205), np.float64(-0.021449400664502738), np.float64(-0.022724822637582465), np.float64(0.024347646888076113), np.float64(-0.024391082077444004), np.float64(-0.021173138152195015), np.float64(-0.029518158313449172), np.float64(0.02569824789143582), np.float64(-0.027740054250753654), np.float64(-0.028146308431003852), np.float64(0.02474690007293945), np.float64(-0.036284507106413955), np.float64(0.02986242108440229), np.float64(-0.035649708609806985), np.float64(-0.03203710063235676), np.float64(0.02386969542307149), np.float64(-0.04039526078745259), np.float64(0.02474226295510973), np.float64(-0.02379869397635359), np.float64(-0.029110303335524668), np.float64(-0.038768430665237275), np.float64(-0.03251195148816344), np.float64(0.024477242280086964), np.float64(0.03056329358583576), np.float64(0.02762829164595959), np.float64(0.026156273782937722), np.float64(-0.0214000649197158), np.float64(-0.03368805871951874), np.float64(-0.0432366134006168), np.float64(-0.021126437880238824), np.float64(0.025883894952576147), np.float64(0.030583700679551518), np.float64(-0.028003617786773516), np.float64(0.02596564246086497), np.float64(-0.02366266361565439), np.float64(0.026480052302171098), np.float64(0.02372481982226482), np.float64(0.024626377895927698), np.float64(-0.02500198485734284), np.float64(0.05543448436034493), np.float64(0.030947872397389053), np.float64(-0.024921675023714007), np.float64(-0.02314909375473495), np.float64(-0.02996879838863975), np.float64(0.023042611519136447), np.float64(-0.02115107439771169), np.float64(0.025295927786425976), np.float64(-0.02949284635160343), np.float64(-0.0269730913054258), np.float64(-0.04839563335990149), np.float64(-0.05974960534553109), np.float64(0.09515387644904849), np.float64(-0.03460757958472693), np.float64(-0.0224083715440897), np.float64(-0.023567493023827546), np.float64(0.025117204723895226), np.float64(0.032558782749008364), np.float64(-0.02711167321141361)]\n"
     ]
    }
   ],
   "source": [
    "# Para obtener cuantitativamente la información que vemos en la gráfica, lo ahcemos de la siguiente manera:\n",
    "\n",
    "Q1 = temp_df['returns'].quantile(0.25)\n",
    "Q2 = temp_df['returns'].median()\n",
    "Q3 = temp_df['returns'].quantile(0.75)\n",
    "IQR = Q3 - Q1\n",
    "\n",
    "# Límites para detectar outliers\n",
    "lower_bound = Q1 - 1.5 * IQR\n",
    "upper_bound = Q3 + 1.5 * IQR\n",
    "\n",
    "# Detectar outliers\n",
    "outliers = temp_df['returns'][(temp_df['returns'] < lower_bound) | (temp_df['returns'] > upper_bound)]\n",
    "\n",
    "print(f\"Q1 (25%): {Q1}\")\n",
    "print(f\"Mediana (Q2): {Q2}\")\n",
    "print(f\"Q3 (75%): {Q3}\")\n",
    "print(f\"IQR: {IQR}\")\n",
    "print(f\"Bigote inferior: {lower_bound}\")\n",
    "print(f\"Bigote superior: {upper_bound}\")\n",
    "print(f\"Outliers: {list(outliers.values)}\")"
   ]
  }
 ],
 "metadata": {
  "kernelspec": {
   "display_name": "Python 3 (ipykernel)",
   "language": "python",
   "name": "python3"
  },
  "language_info": {
   "codemirror_mode": {
    "name": "ipython",
    "version": 3
   },
   "file_extension": ".py",
   "mimetype": "text/x-python",
   "name": "python",
   "nbconvert_exporter": "python",
   "pygments_lexer": "ipython3",
   "version": "3.10.18"
  }
 },
 "nbformat": 4,
 "nbformat_minor": 5
}
