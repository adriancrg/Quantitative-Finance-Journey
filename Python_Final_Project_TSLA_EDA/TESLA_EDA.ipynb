{
 "cells": [
  {
   "cell_type": "markdown",
   "id": "7ec1085b-6786-4d42-a8c9-75140e2c509c",
   "metadata": {},
   "source": [
    "To begin with this exploratory data analysis of Tesla Stock, we import the needed libraries."
   ]
  },
  {
   "cell_type": "code",
   "execution_count": null,
   "id": "0cec030f-dce7-4c32-a2e9-43cd279f4127",
   "metadata": {},
   "outputs": [],
   "source": [
    "import yfinance as yf\n",
    "import pandas as pd\n",
    "import numpy as np\n",
    "import matplotlib.pyplot as plt\n",
    "import seaborn as sns"
   ]
  },
  {
   "cell_type": "markdown",
   "id": "42d6d65e-7bf7-4545-8048-43cc9107c441",
   "metadata": {},
   "source": [
    "Once we have done this, we can start importing the required data from Yahoo Finance."
   ]
  },
  {
   "cell_type": "code",
   "execution_count": null,
   "id": "bdedfc85-24a0-40fb-a9b7-b5e740819ac9",
   "metadata": {},
   "outputs": [],
   "source": [
    "tesla_df = yf.download(\"TSLA\", period='5y')\n",
    "\n",
    "# We are ignoring the double index as we know we are only working with tesla stocks, therefore we can remove the ticker from the data frame\n",
    "tesla_df.columns = tesla_df.columns.get_level_values(0)"
   ]
  },
  {
   "cell_type": "code",
   "execution_count": null,
   "id": "35afad2b-8361-46fa-b38c-7a58910b9845",
   "metadata": {},
   "outputs": [],
   "source": [
    "print(tesla_df.head())\n",
    "print(\"\\n\")\n",
    "print(tesla_df.tail())\n",
    "print(\"\\n\")\n",
    "print(tesla_df.info())\n",
    "print(\"\\n\")\n",
    "print(tesla_df.describe())"
   ]
  },
  {
   "cell_type": "markdown",
   "id": "32ff652c-6e88-4b20-80ca-9378e19fbe52",
   "metadata": {},
   "source": [
    "Using the previous commands, we can already see some interesting information regarding the downloaded data, which is a data frame of Tesla Stock prices from the last 5 years. We have the open and close prices of the stock for every day in which the market is open (on weekends the market is closed). For each one of these days, we can see the lowest and highest price, as well as the volume traded that day.\n",
    "\n",
    "The command .info() tells us the data frame counts with 1255 days of data from the last 5 years: Prices are given as floats and volume is given as an integer. Moreover, the data frame uses 58.8 KB of memory. One important thing to note is that we do not have any single null data from the 1255 days, which may facilitate data treatment.\n",
    "\n",
    "To end with this section, we used .describe(), which gives us some statistical values of each data set (column) of the data frame, such as the mean, the standart deviation and so on. For example, the lowest price Tesla Stock had in the last 5 years was 101.809998 USD, and the highest was 488.540009 USD. This gives us a range of prices of nearly 400 USD (this is just a rough estimation, detailed results will be displayed throughout the curse of this notebook)."
   ]
  },
  {
   "cell_type": "code",
   "execution_count": null,
   "id": "e919c753-f8ce-4b84-bc7c-8ee02ee50b2d",
   "metadata": {},
   "outputs": [],
   "source": [
    "tesla_df['returns'] = tesla_df['Close'].pct_change()\n",
    "tesla_df['VOLAT30'] = tesla_df['returns'].rolling(window=30).std()\n",
    "tesla_df['MA50'] = tesla_df['Close'].rolling(window=50).mean()\n",
    "tesla_df['MA200'] = tesla_df['Close'].rolling(window=200).mean()"
   ]
  },
  {
   "cell_type": "markdown",
   "id": "4a7b0ca7-646b-43c8-a004-9cea5fa35132",
   "metadata": {},
   "source": [
    "To analyze momentum and trend, we engineer several key technical indicators: daily returns, 30-day rolling volatility, and the 50/200-day Simple Moving Averages (SMAs).\n",
    "\n",
    "Firstly, we added the daily returns, i.e. the daily changes in price. After that, we added a volatility indicator, which is calculated as the standard deviation of the 30 previous returns. As a last indicator, we have chosen the moving averages, the price average of the 50 and 200 precious days respectively.\n",
    "\n",
    "Now let's illustrate this indicators in a variety of graphs."
   ]
  },
  {
   "cell_type": "code",
   "execution_count": null,
   "id": "c7230e30-0f07-4243-b2da-b4a218097b2a",
   "metadata": {},
   "outputs": [],
   "source": [
    "plt.figure(figsize=(14, 7))\n",
    "\n",
    "plt.plot(tesla_df['Close'], label='TSLA close price', color='red')\n",
    "plt.plot(tesla_df['MA50'], label='50 days Moving Average', color='blue')\n",
    "plt.plot(tesla_df['MA200'], label='200 days Moving Average', color='orange')\n",
    "\n",
    "# Creating a column with the difference of both means\n",
    "tesla_df['diff'] = tesla_df['MA50'] - tesla_df['MA200']\n",
    "\n",
    "# Detecting crosses (when 'diff' sign changes)\n",
    "tesla_df['signal'] = np.sign(tesla_df['diff'])\n",
    "tesla_df['cross'] = tesla_df['signal'].diff()\n",
    "\n",
    "# Golden Cross: \n",
    "golden_crosses = tesla_df[tesla_df['cross'] == 2]\n",
    "\n",
    "# Death Cross: \n",
    "death_crosses = tesla_df[tesla_df['cross'] == -2]\n",
    "\n",
    "# Adding the crosses to the graph\n",
    "plt.scatter(golden_crosses.index, golden_crosses['MA50'],\n",
    "            color='gold', label='Golden Cross', s=100, zorder=5)\n",
    "\n",
    "plt.scatter(death_crosses.index, death_crosses['MA50'],\n",
    "            color='black', label='Death Cross', s=100, zorder=5)\n",
    "\n",
    "plt.title(f'Close price and 50/200 Days Moving Averages for TSLA')\n",
    "plt.xlabel('Date')\n",
    "plt.ylabel('Price (USD)')\n",
    "plt.legend()  \n",
    "plt.grid(True) \n",
    "plt.show()"
   ]
  },
  {
   "cell_type": "markdown",
   "id": "0660ad03-db2a-4c1e-be8b-a254bbcbed0a",
   "metadata": {},
   "source": [
    "This chart also shows us when there is a golden cross (MA50 goes over MA200) as a yellow dot or a death cross (MA50 goes under MA200) as a black dot. A very common practice is to identify a golden cross as a buy signal and a death cross as a sell signal. Nonetheless, while these signals are traditionally interpreted as direct buy/sell triggers, an alternative strategic application is to use them to inform accumulation (DCA) strategies. A Death Cross, for instance, could signal the start of a period of price weakness potentially suitable for accumulation, while a Golden Cross could indicate a period of strength suitable for profit-taking or reducing positions."
   ]
  },
  {
   "cell_type": "code",
   "execution_count": null,
   "id": "0a77fc5c-d700-4eb6-8af5-c9d216c1784d",
   "metadata": {},
   "outputs": [],
   "source": [
    "plt.figure(figsize=(14, 7))\n",
    "#plt.bar(tesla_df.index, tesla_df['Volume'], color='skyblue', edgecolor='skyblue')\n",
    "plt.fill_between(tesla_df.index, tesla_df['Volume'], color='skyblue')\n",
    "\n",
    "plt.title('Tesla Stocks Volume Traded', fontsize=16)\n",
    "plt.xlabel('Date', fontsize=12)\n",
    "plt.ylabel('Volume', fontsize=12)\n",
    "plt.tight_layout()\n",
    "plt.show()"
   ]
  },
  {
   "cell_type": "markdown",
   "id": "c122f471-e323-49a3-8344-94b06243a89a",
   "metadata": {},
   "source": [
    "We can now see in this chart the historical volume traded for Tesla stocks. It is important to note that the volume comes in terms of stocks and not USD. Also note that the y axis is divided by ten to the eighth power."
   ]
  },
  {
   "cell_type": "code",
   "execution_count": null,
   "id": "617b9537-0ba9-4b93-98b3-4295dcef25b5",
   "metadata": {},
   "outputs": [],
   "source": [
    "plt.figure(figsize=(14, 7))\n",
    "\n",
    "plt.plot(tesla_df['VOLAT30'], label='TSLA 30 days Volatilty')\n",
    "\n",
    "plt.title(f'Tesla Stocks 30 days volatility')\n",
    "plt.xlabel('Date')\n",
    "plt.ylabel('Volatility Value')\n",
    "plt.grid(True) \n",
    "plt.show()"
   ]
  },
  {
   "cell_type": "markdown",
   "id": "ee32607e-5b2b-4ec7-8370-cd08e4ce5de8",
   "metadata": {},
   "source": [
    "This is a simple graph where the volatility is displayed. This indicator is also used for a widely range of signals, as it indicates agressive spikes of the prices out of the common behaviour of the chart."
   ]
  },
  {
   "cell_type": "code",
   "execution_count": null,
   "id": "160996b0-4092-4b38-a5b4-46ba299ccb1d",
   "metadata": {},
   "outputs": [],
   "source": [
    "sns.set_theme(style=\"whitegrid\")\n",
    "\n",
    "plt.figure(figsize=(10, 6))\n",
    "\n",
    "barplot = sns.histplot(x='returns', data=tesla_df, kde=True)\n",
    "\n",
    "# Usamos Matplotlib para añadir los toques finales y profesionales\n",
    "plt.title('TSLA daily Returns', fontsize=16)\n",
    "plt.xlabel('Values', fontsize=12)\n",
    "plt.ylabel('Frequency', fontsize=12)\n",
    "\n",
    "plt.tight_layout() # Ajusta el gráfico para que todo encaje bien\n",
    "plt.show() # Muestra el gráfico final"
   ]
  },
  {
   "cell_type": "markdown",
   "id": "9b88281f-eb2e-4292-b6be-9dbcc68044a4",
   "metadata": {},
   "source": [
    "In this final chart, we spot a normal distributions of Tesla Stock daily returns. We can see the mean is a value slightly higher than 0%, which indicates the bullish historical price action of Tesla.\n",
    "\n",
    "As a conclusion, it is clear that TSLA is a very volatile asset, affected severely by 2023 rates hike and some political tensions between Elon and Donald Trump early this year. The bullish long term tendency of it along with all the innovations this company is pushing (such as Optimus as their robotical innovation or AI implementations), makes it an interesting asset to invest in. We could take advantage of its high volatility to accumulate stocks at very underrated prices and hold for mid-long term, leading to huge returns with low risk based on its fundamentals."
   ]
  }
 ],
 "metadata": {
  "kernelspec": {
   "display_name": "Python 3 (ipykernel)",
   "language": "python",
   "name": "python3"
  },
  "language_info": {
   "codemirror_mode": {
    "name": "ipython",
    "version": 3
   },
   "file_extension": ".py",
   "mimetype": "text/x-python",
   "name": "python",
   "nbconvert_exporter": "python",
   "pygments_lexer": "ipython3",
   "version": "3.10.18"
  }
 },
 "nbformat": 4,
 "nbformat_minor": 5
}
