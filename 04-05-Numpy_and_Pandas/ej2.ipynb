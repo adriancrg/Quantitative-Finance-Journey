{
 "cells": [
  {
   "cell_type": "code",
   "execution_count": null,
   "id": "b8f0e216-3564-4e7e-ad22-b91f2bf1ddf3",
   "metadata": {},
   "outputs": [],
   "source": [
    "# Enunciado: Dada la siguiente cartera en forma de diccionario, conviértela a un DataFrame de Pandas. Luego, (a) añade una nueva columna llamada 'valor_total' que sea el resultado de acciones * precio_compra, y (b) usa .groupby() para calcular el valor total invertido por cada sector."
   ]
  },
  {
   "cell_type": "code",
   "execution_count": 13,
   "id": "fb23553f-a5d0-491b-8429-d65f8e7ce559",
   "metadata": {},
   "outputs": [],
   "source": [
    "import pandas as pd\n",
    "\n",
    "portfolio_dict = {\n",
    "    'ticker': ['AAPL', 'NVDA', 'JPM', 'GOOGL', 'BAC'],\n",
    "    'sector': ['Technology', 'Technology', 'Financials', 'Technology', 'Financials'],\n",
    "    'acciones': [50, 25, 100, 30, 200],\n",
    "    'precio_compra': [150.25, 450.70, 140.10, 135.50, 35.20]\n",
    "}"
   ]
  },
  {
   "cell_type": "code",
   "execution_count": 14,
   "id": "6372d678-ac4d-4892-a456-c89b1739ad53",
   "metadata": {},
   "outputs": [
    {
     "data": {
      "text/html": [
       "<div>\n",
       "<style scoped>\n",
       "    .dataframe tbody tr th:only-of-type {\n",
       "        vertical-align: middle;\n",
       "    }\n",
       "\n",
       "    .dataframe tbody tr th {\n",
       "        vertical-align: top;\n",
       "    }\n",
       "\n",
       "    .dataframe thead th {\n",
       "        text-align: right;\n",
       "    }\n",
       "</style>\n",
       "<table border=\"1\" class=\"dataframe\">\n",
       "  <thead>\n",
       "    <tr style=\"text-align: right;\">\n",
       "      <th></th>\n",
       "      <th>ticker</th>\n",
       "      <th>sector</th>\n",
       "      <th>acciones</th>\n",
       "      <th>precio_compra</th>\n",
       "      <th>valor_total</th>\n",
       "    </tr>\n",
       "  </thead>\n",
       "  <tbody>\n",
       "    <tr>\n",
       "      <th>0</th>\n",
       "      <td>AAPL</td>\n",
       "      <td>Technology</td>\n",
       "      <td>50</td>\n",
       "      <td>150.25</td>\n",
       "      <td>7512.5</td>\n",
       "    </tr>\n",
       "    <tr>\n",
       "      <th>1</th>\n",
       "      <td>NVDA</td>\n",
       "      <td>Technology</td>\n",
       "      <td>25</td>\n",
       "      <td>450.70</td>\n",
       "      <td>11267.5</td>\n",
       "    </tr>\n",
       "    <tr>\n",
       "      <th>2</th>\n",
       "      <td>JPM</td>\n",
       "      <td>Financials</td>\n",
       "      <td>100</td>\n",
       "      <td>140.10</td>\n",
       "      <td>14010.0</td>\n",
       "    </tr>\n",
       "    <tr>\n",
       "      <th>3</th>\n",
       "      <td>GOOGL</td>\n",
       "      <td>Technology</td>\n",
       "      <td>30</td>\n",
       "      <td>135.50</td>\n",
       "      <td>4065.0</td>\n",
       "    </tr>\n",
       "    <tr>\n",
       "      <th>4</th>\n",
       "      <td>BAC</td>\n",
       "      <td>Financials</td>\n",
       "      <td>200</td>\n",
       "      <td>35.20</td>\n",
       "      <td>7040.0</td>\n",
       "    </tr>\n",
       "  </tbody>\n",
       "</table>\n",
       "</div>"
      ],
      "text/plain": [
       "  ticker      sector  acciones  precio_compra  valor_total\n",
       "0   AAPL  Technology        50         150.25       7512.5\n",
       "1   NVDA  Technology        25         450.70      11267.5\n",
       "2    JPM  Financials       100         140.10      14010.0\n",
       "3  GOOGL  Technology        30         135.50       4065.0\n",
       "4    BAC  Financials       200          35.20       7040.0"
      ]
     },
     "execution_count": 14,
     "metadata": {},
     "output_type": "execute_result"
    }
   ],
   "source": [
    "# Creamos el df y añadimos la columna pedida en el enunciado\n",
    "\n",
    "portfolio_df=pd.DataFrame(portfolio_dict)\n",
    "portfolio_df['valor_total']=portfolio_df['acciones']*portfolio_df['precio_compra']\n",
    "portfolio_df\n"
   ]
  },
  {
   "cell_type": "code",
   "execution_count": 15,
   "id": "35bca0ab-917b-4f86-b8d4-1cc340fc73cd",
   "metadata": {},
   "outputs": [
    {
     "name": "stdout",
     "output_type": "stream",
     "text": [
      "--- RESULTADO FINAL: Valor Total por Sector ---\n",
      "sector\n",
      "Financials    21050.0\n",
      "Technology    22845.0\n",
      "Name: valor_total, dtype: float64\n"
     ]
    }
   ],
   "source": [
    "# Usamos groupby\n",
    "\n",
    "valor_total_sector = portfolio_df.groupby('sector')['valor_total'].sum()\n",
    "\n",
    "print(\"--- RESULTADO FINAL: Valor Total por Sector ---\")\n",
    "print(valor_total_sector)"
   ]
  }
 ],
 "metadata": {
  "kernelspec": {
   "display_name": "Python 3 (ipykernel)",
   "language": "python",
   "name": "python3"
  },
  "language_info": {
   "codemirror_mode": {
    "name": "ipython",
    "version": 3
   },
   "file_extension": ".py",
   "mimetype": "text/x-python",
   "name": "python",
   "nbconvert_exporter": "python",
   "pygments_lexer": "ipython3",
   "version": "3.10.18"
  }
 },
 "nbformat": 4,
 "nbformat_minor": 5
}
