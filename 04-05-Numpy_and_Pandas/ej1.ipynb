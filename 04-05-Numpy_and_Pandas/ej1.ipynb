{
 "cells": [
  {
   "cell_type": "code",
   "execution_count": null,
   "id": "6c6bbe3d-3909-449c-b591-293e600c7d02",
   "metadata": {},
   "outputs": [],
   "source": [
    "# Dado el siguiente array de NumPy de precios de cierre, calcula los retornos logarítmicos diarios. La fórmula es log(precio_t / precio_{t-1}). Debes hacerlo de forma vectorizada, sin usar bucles for."
   ]
  },
  {
   "cell_type": "code",
   "execution_count": 13,
   "id": "86876f0d-d3f8-441c-ad6d-8dc11d9924fb",
   "metadata": {},
   "outputs": [
    {
     "data": {
      "text/plain": [
       "array([ 0.01980263,  0.02898754, -0.01923136,  0.02871011,  0.01869213,\n",
       "       -0.00930239])"
      ]
     },
     "execution_count": 13,
     "metadata": {},
     "output_type": "execute_result"
    }
   ],
   "source": [
    "import numpy as np\n",
    "# Creamos el array de precios de cierre\n",
    "\n",
    "precios = np.array([100, 102, 105, 103, 106, 108, 107])\n",
    "\n",
    "# Ejecutamos el cálculo\n",
    "retornos_log=np.log(precios[1:]/precios[:-1])\n",
    "retornos_log\n",
    "\n",
    "# Nota: Según el enunciado, el primer elemento debería ser Nan, pero así no aparece ningún Nan, hemos reducido el array una columna"
   ]
  },
  {
   "cell_type": "code",
   "execution_count": 16,
   "id": "19adfaaa-a61b-497c-a718-174949ae6660",
   "metadata": {},
   "outputs": [
    {
     "name": "stdout",
     "output_type": "stream",
     "text": [
      "Array de precios original: [100 102 105 103 106 108 107]\n",
      "Longitud original: 7\n",
      "\n",
      "\n",
      "Retornos calculados (tu solución, matemáticamente pura): [ 0.01980263  0.02898754 -0.01923136  0.02871011  0.01869213 -0.00930239]\n",
      "Longitud de retornos puros: 6\n",
      "\n",
      "\n",
      "Array final con NaN para alineación: [        nan  0.01980263  0.02898754 -0.01923136  0.02871011  0.01869213\n",
      " -0.00930239]\n",
      "Longitud final: 7\n",
      "Tipo de dato del array final: float64\n"
     ]
    }
   ],
   "source": [
    "# Correción para que aparezca Nan y así poder alinearlo con otros datos en caso de querer hacer un tabla por ejemplo\n",
    "\n",
    "import numpy as np\n",
    "\n",
    "# Tu código original, que es el motor del cálculo\n",
    "precios = np.array([100, 102, 105, 103, 106, 108, 107])\n",
    "retornos_calculados = np.log(precios[1:] / precios[:-1])\n",
    "\n",
    "# Ahora, creamos el array final añadiendo un NaN al principio\n",
    "# np.concatenate() une secuencias de arrays.\n",
    "# Aquí unimos un array que solo contiene [np.nan] con nuestro resultado.\n",
    "retornos_finales = np.concatenate(([np.nan], retornos_calculados))\n",
    "\n",
    "\n",
    "print(\"Array de precios original:\", precios)\n",
    "print(\"Longitud original:\", len(precios))\n",
    "print(\"\\n\")\n",
    "print(\"Retornos calculados (tu solución, matemáticamente pura):\", retornos_calculados)\n",
    "print(\"Longitud de retornos puros:\", len(retornos_calculados))\n",
    "print(\"\\n\")\n",
    "print(\"Array final con NaN para alineación:\", retornos_finales)\n",
    "print(\"Longitud final:\", len(retornos_finales))\n",
    "\n",
    "# Comprobando el tipo de dato\n",
    "# NumPy convierte automáticamente el array a float64 para poder alojar el NaN\n",
    "print(\"Tipo de dato del array final:\", retornos_finales.dtype)"
   ]
  }
 ],
 "metadata": {
  "kernelspec": {
   "display_name": "Python 3 (ipykernel)",
   "language": "python",
   "name": "python3"
  },
  "language_info": {
   "codemirror_mode": {
    "name": "ipython",
    "version": 3
   },
   "file_extension": ".py",
   "mimetype": "text/x-python",
   "name": "python",
   "nbconvert_exporter": "python",
   "pygments_lexer": "ipython3",
   "version": "3.10.18"
  }
 },
 "nbformat": 4,
 "nbformat_minor": 5
}
