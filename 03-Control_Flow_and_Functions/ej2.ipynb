{
 "cells": [
  {
   "cell_type": "code",
   "execution_count": 15,
   "id": "626f8e62-916d-46db-9cb4-e077c931c6b8",
   "metadata": {},
   "outputs": [
    {
     "data": {
      "text/plain": [
       "'\\ndef calcular_valor_cartera_robusto(cartera):\\n    valor_total = 0\\n    for activo in cartera:\\n        try:\\n            valor_total += activo[\"acciones\"] * activo[\"precio_compra\"]\\n        except KeyError:\\n            # Usamos .get() para un manejo de errores 100% seguro\\n            ticker = activo.get(\\'ticker\\', \\'DESCONOCIDO\\')\\n            print(f\"Advertencia: Se omitió el activo con ticker {ticker} por datos incompletos.\")\\n            # No necesitamos \\'continue\\' si la lógica está autocontenida\\n    return valor_total\\n'"
      ]
     },
     "execution_count": 15,
     "metadata": {},
     "output_type": "execute_result"
    }
   ],
   "source": [
    "def calcular_valor_cartera_robusto(cartera):\n",
    "\n",
    "    valores_individuales=[]\n",
    "    for activo in cartera:\n",
    "\n",
    "        try:\n",
    "            valores_individuales=valores_individuales + [activo[\"acciones\"]*activo[\"precio_compra\"]]\n",
    "\n",
    "        except KeyError:\n",
    "            print(f\"Advertencia: Se omitió el activo con ticker {activo['ticker']} por datos incompletos.\")\n",
    "            continue\n",
    "\n",
    "    return sum(valores_individuales)\n",
    "\n",
    "\n",
    "\n",
    "# Correción/Mejora 1: (Aunque esta no cumple con los requisitos de try..except, quería ver cómo se hacía con list comprehensions)\n",
    "\n",
    "\"\"\"\n",
    "# Filtramos primero para quedarnos solo con los diccionarios que tienen AMBAS claves\n",
    "activos_validos = [\n",
    "    activo for activo in portfolio\n",
    "    if 'acciones' in activo and 'precio_compra' in activo\n",
    "]\n",
    "\n",
    "# Ahora hacemos el cálculo sobre la lista ya limpia, sin necesidad de try/except\n",
    "valor_total = sum(activo['acciones'] * activo['precio_compra'] for activo in activos_validos)\n",
    "\"\"\"\n",
    "\n",
    "#Corrección/Mejora 2: (Bug dentro del except)\n",
    "\n",
    "\"\"\"\n",
    "def calcular_valor_cartera_robusto(cartera):\n",
    "    valor_total = 0\n",
    "    for activo in cartera:\n",
    "        try:\n",
    "            valor_total += activo[\"acciones\"] * activo[\"precio_compra\"]\n",
    "        except KeyError:\n",
    "            # Usamos .get() para un manejo de errores 100% seguro\n",
    "            ticker = activo.get('ticker', 'DESCONOCIDO')\n",
    "            print(f\"Advertencia: Se omitió el activo con ticker {ticker} por datos incompletos.\")\n",
    "            # No necesitamos 'continue' si la lógica está autocontenida\n",
    "    return valor_total\n",
    "\"\"\""
   ]
  },
  {
   "cell_type": "code",
   "execution_count": 16,
   "id": "1a7483b4-5651-4827-a894-a6febae5a611",
   "metadata": {},
   "outputs": [
    {
     "name": "stdout",
     "output_type": "stream",
     "text": [
      "Advertencia: Se omitió el activo con ticker BTC por datos incompletos.\n"
     ]
    },
    {
     "data": {
      "text/plain": [
       "32790.0"
      ]
     },
     "execution_count": 16,
     "metadata": {},
     "output_type": "execute_result"
    }
   ],
   "source": [
    "# Definimos el portfolio como en el módulo anterior con un ejemplo de activo que no cumple los requisitos para calcular su valor en la cartera\n",
    "\n",
    "portfolio = [\n",
    "    {\n",
    "        'ticker': 'AAPL',\n",
    "        'nombre': 'Apple Inc',\n",
    "        'sector': 'Technology',\n",
    "        'acciones': 50,\n",
    "        'precio_compra': 150.25\n",
    "    },\n",
    "    {\n",
    "        'ticker': 'NVDA',\n",
    "        'nombre': 'NVIDIA Corporation',\n",
    "        'sector': 'Technology',\n",
    "        'acciones': 25,\n",
    "        'precio_compra': 450.70\n",
    "    },\n",
    "    {\n",
    "        'ticker': 'JPM',\n",
    "        'nombre': 'JPMorgan Chase & Co.',\n",
    "        'sector': 'Financial Services',\n",
    "        'acciones': 100,\n",
    "        'precio_compra': 140.10\n",
    "    },\n",
    "    {\n",
    "        'ticker': 'BTC',\n",
    "        'nombre': 'Bitcoin',\n",
    "        'sector': 'Crypto',\n",
    "        'HOLD': 100,\n",
    "        'precio_compra': 15000\n",
    "    }\n",
    "]\n",
    "\n",
    "# Comprobamos que funciona la función\n",
    "\n",
    "calcular_valor_cartera_robusto(portfolio)"
   ]
  },
  {
   "cell_type": "code",
   "execution_count": null,
   "id": "389ab1e5-b1e2-4387-8838-b3311ee2e917",
   "metadata": {},
   "outputs": [],
   "source": []
  }
 ],
 "metadata": {
  "kernelspec": {
   "display_name": "Python 3 (ipykernel)",
   "language": "python",
   "name": "python3"
  },
  "language_info": {
   "codemirror_mode": {
    "name": "ipython",
    "version": 3
   },
   "file_extension": ".py",
   "mimetype": "text/x-python",
   "name": "python",
   "nbconvert_exporter": "python",
   "pygments_lexer": "ipython3",
   "version": "3.10.18"
  }
 },
 "nbformat": 4,
 "nbformat_minor": 5
}
