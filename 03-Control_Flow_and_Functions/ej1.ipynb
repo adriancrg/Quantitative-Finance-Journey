{
 "cells": [
  {
   "cell_type": "code",
   "execution_count": 14,
   "id": "30aa0c6a-506e-461b-86ac-0206b5d366f9",
   "metadata": {},
   "outputs": [],
   "source": [
    "def generar_señales(precios, umbral_compra, umbral_venta):\n",
    "\n",
    "    compras=0\n",
    "    ventas=0\n",
    "    for p in precios:\n",
    "        if p<=umbral_compra:\n",
    "            print(f\"Señal de COMPRA\")\n",
    "            compras+=1\n",
    "        elif p>=umbral_venta:\n",
    "            print(f\"Señal de VENTA\")\n",
    "            ventas+=1\n",
    "        else:\n",
    "            print(f\"Mantener\")  \n",
    "    \n",
    "    return print(f\"Las señales totales de (compra,venta) fueron {(compras,ventas)}.\")"
   ]
  },
  {
   "cell_type": "code",
   "execution_count": null,
   "id": "16334233-d80d-4bd1-97dc-57f1b50e0ae1",
   "metadata": {},
   "outputs": [],
   "source": [
    "# Vamos a comprobar que la función funciona correctamente con un simple ejemplo\n",
    "import numpy as np\n",
    "\n",
    "precios_random= np.random.uniform(90000,130000, size=100)\n",
    "\n",
    "generar_señales(precios_random, 95000, 125000)"
   ]
  },
  {
   "cell_type": "code",
   "execution_count": null,
   "id": "818f358d-06a8-4a0f-ae98-ce1654ef3d55",
   "metadata": {},
   "outputs": [],
   "source": [
    "# Correción:\n",
    "\"\"\"\n",
    "import numpy as np\n",
    "\n",
    "def generar_señales(precios, umbral_compra, umbral_venta):\n",
    "    \n",
    "    #Analiza una lista de precios y genera señales de trading basadas en umbrales.\n",
    "\n",
    "    #Args:\n",
    "     #   precios (list): Una lista de precios (int o float).\n",
    "      #  umbral_compra (float): El precio por debajo del cual se genera una señal de compra.\n",
    "       # umbral_venta (float): El precio por encima del cual se genera una señal de venta.\n",
    "\n",
    "    #Returns:\n",
    "     #   tuple: Una tupla que contiene (lista_de_señales, num_compras, num_ventas).\n",
    "    \n",
    "    señales_generadas = []\n",
    "    num_compras = 0\n",
    "    num_ventas = 0\n",
    "\n",
    "    for p in precios:\n",
    "        if p <= umbral_compra:\n",
    "            señales_generadas.append(\"COMPRA\")\n",
    "            num_compras += 1\n",
    "        elif p >= umbral_venta:\n",
    "            señales_generadas.append(\"VENTA\")\n",
    "            num_ventas += 1\n",
    "        else:\n",
    "            señales_generadas.append(\"MANTENER\")\n",
    "    \n",
    "    # Devolvemos todos los resultados para que el usuario decida qué hacer con ellos\n",
    "    return (señales_generadas, num_compras, num_ventas)\n",
    "\n",
    "# --- Celda de prueba ---\n",
    "\n",
    "# 1. Generamos los datos de prueba\n",
    "precios_random = np.random.uniform(90000, 130000, size=100)\n",
    "\n",
    "# 2. LLAMAMOS a la función y CAPTURAMOS sus resultados en variables\n",
    "#    Esto se llama \"desempaquetado de tuplas\" (tuple unpacking)\n",
    "señales, compras_totales, ventas_totales = generar_señales(precios_random, 95000, 125000)\n",
    "\n",
    "# 3. Ahora que tenemos los datos, nosotros decidimos qué hacer con ellos (imprimirlos)\n",
    "print(\"--- Análisis de Señales ---\")\n",
    "# print(f\"Señales generadas: {señales}\") # Podríamos imprimir la lista completa si quisiéramos\n",
    "print(f\"Número total de señales de COMPRA: {compras_totales}\")\n",
    "print(f\"Número total de señales de VENTA: {ventas_totales}\")\n",
    "print(f\"Las señales totales de (compra,venta) fueron: {(compras_totales, ventas_totales)}\")\n",
    "\n",
    "\"\"\""
   ]
  }
 ],
 "metadata": {
  "kernelspec": {
   "display_name": "Python 3 (ipykernel)",
   "language": "python",
   "name": "python3"
  },
  "language_info": {
   "codemirror_mode": {
    "name": "ipython",
    "version": 3
   },
   "file_extension": ".py",
   "mimetype": "text/x-python",
   "name": "python",
   "nbconvert_exporter": "python",
   "pygments_lexer": "ipython3",
   "version": "3.10.18"
  }
 },
 "nbformat": 4,
 "nbformat_minor": 5
}
